{
 "cells": [
  {
   "cell_type": "code",
   "execution_count": 15,
   "metadata": {},
   "outputs": [],
   "source": [
    "from transformers import BertTokenizer, BertModel, AdamW"
   ]
  },
  {
   "cell_type": "code",
   "execution_count": 20,
   "metadata": {},
   "outputs": [
    {
     "name": "stdout",
     "output_type": "stream",
     "text": [
      "Model and metrics loaded successfully!\n"
     ]
    }
   ],
   "source": [
    "load_path = \"model_checkpoint.pth\"\n",
    "checkpoint = torch.load(load_path)\n",
    "\n",
    "class FakeNewsClassifier(nn.Module):\n",
    "    def __init__(self, bert_model):\n",
    "        super(FakeNewsClassifier, self).__init__()\n",
    "        self.bert = bert_model\n",
    "        self.dropout = nn.Dropout(0.3)\n",
    "        self.classifier = nn.Linear(768, 2)  # 768 is the BERT hidden size\n",
    "\n",
    "    def forward(self, input_ids, attention_mask, token_type_ids):\n",
    "        outputs = self.bert(input_ids=input_ids, attention_mask=attention_mask, token_type_ids=token_type_ids)\n",
    "        pooled_output = outputs.pooler_output\n",
    "        pooled_output = self.dropout(pooled_output)\n",
    "        logits = self.classifier(pooled_output)\n",
    "\n",
    "        return logits\n",
    "\n",
    "classifier_model = FakeNewsClassifier(model)\n",
    "optimizer = AdamW(classifier_model.parameters(), lr=2e-5)\n",
    "total_steps = 10000  # 10 epochs\n",
    "scheduler = torch.optim.lr_scheduler.OneCycleLR(optimizer, max_lr=5e-5, total_steps=total_steps)\n",
    "\n",
    "# Load model state dict\n",
    "classifier_model.load_state_dict(checkpoint[\"model_state_dict\"])\n",
    "classifier_model.eval()\n",
    "\n",
    "# Load optimizer and scheduler state dicts\n",
    "optimizer.load_state_dict(checkpoint[\"optimizer_state_dict\"])\n",
    "scheduler.load_state_dict(checkpoint[\"scheduler_state_dict\"])\n",
    "\n",
    "# Load metrics\n",
    "validation_accuracy = checkpoint[\"metrics\"][\"validation_accuracy\"]\n",
    "test_accuracy = checkpoint[\"metrics\"][\"test_accuracy\"]\n",
    "\n",
    "#set device\n",
    "device = torch.device(\"cuda\" if torch.cuda.is_available() else \"cpu\")\n",
    "classifier_model = classifier_model.to(device)\n",
    "\n",
    "print(\"Model and metrics loaded successfully!\")"
   ]
  },
  {
   "cell_type": "code",
   "execution_count": 21,
   "metadata": {},
   "outputs": [
    {
     "name": "stdout",
     "output_type": "stream",
     "text": [
      "Enter the text to classify: North Korea blew up the moon.\n",
      "Predicted Label: Fake News\n"
     ]
    }
   ],
   "source": [
    "# User input\n",
    "user_text = input(\"Enter the text to classify: \")\n",
    "\n",
    "# Tokenize and preprocess the user input\n",
    "encoded_input = tokenizer.encode_plus(\n",
    "    user_text,\n",
    "    max_length=512,\n",
    "    truncation=True,\n",
    "    padding=\"max_length\",\n",
    "    add_special_tokens=True,\n",
    "    return_attention_mask=True,\n",
    "    return_token_type_ids=True,\n",
    "    return_tensors=\"pt\"\n",
    ")\n",
    "input_ids = encoded_input[\"input_ids\"].to(device)\n",
    "attention_mask = encoded_input[\"attention_mask\"].to(device)\n",
    "token_type_ids = encoded_input[\"token_type_ids\"].to(device)\n",
    "\n",
    "# Make predictions\n",
    "with torch.no_grad():\n",
    "    logits = classifier_model(input_ids, attention_mask, token_type_ids)\n",
    "    probabilities = nn.functional.softmax(logits, dim=1)\n",
    "    predicted_class = torch.argmax(probabilities, dim=1).item()\n",
    "\n",
    "# Map predicted class to label\n",
    "label_map = {1: \"Real News\", 0: \"Fake News\"}\n",
    "predicted_label = label_map[predicted_class]\n",
    "\n",
    "# Print the predicted label\n",
    "print(\"Predicted Label:\", predicted_label)"
   ]
  },
  {
   "cell_type": "code",
   "execution_count": null,
   "metadata": {},
   "outputs": [],
   "source": []
  }
 ],
 "metadata": {
  "kernelspec": {
   "display_name": "Python 3 (ipykernel)",
   "language": "python",
   "name": "python3"
  },
  "language_info": {
   "codemirror_mode": {
    "name": "ipython",
    "version": 3
   },
   "file_extension": ".py",
   "mimetype": "text/x-python",
   "name": "python",
   "nbconvert_exporter": "python",
   "pygments_lexer": "ipython3",
   "version": "3.8.16"
  }
 },
 "nbformat": 4,
 "nbformat_minor": 4
}
